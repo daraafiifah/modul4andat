{
 "cells": [
  {
   "cell_type": "markdown",
   "metadata": {},
   "source": [
    "# CURRENT QUIVER PLOT"
   ]
  },
  {
   "cell_type": "code",
   "execution_count": 71,
   "metadata": {},
   "outputs": [],
   "source": [
    "#masukin library dulu \n",
    "import os\n",
    "os.environ['PROJ_LIB'] = r'C:/Users/user/anaconda3/Lib/site-packages/mpl_toolkits/basemap'\n",
    "import netCDF4 as nc\n",
    "import numpy as np\n",
    "import pandas as pd\n",
    "import math\n",
    "import matplotlib\n",
    "import matplotlib.pyplot as plt\n",
    "import numpy as np\n",
    "import pandas as pd\n",
    "from mpl_toolkits.basemap import Basemap"
   ]
  },
  {
   "cell_type": "markdown",
   "metadata": {},
   "source": [
    "# Input Data Arus"
   ]
  },
  {
   "cell_type": "code",
   "execution_count": 72,
   "metadata": {},
   "outputs": [
    {
     "data": {
      "text/plain": [
       "<class 'netCDF4._netCDF4.Dataset'>\n",
       "root group (NETCDF4 data model, file format HDF5):\n",
       "    classification_level: UNCLASSIFIED\n",
       "    distribution_statement: Approved for public release. Distribution unlimited.\n",
       "    downgrade_date: not applicable\n",
       "    classification_authority: not applicable\n",
       "    institution: Naval Oceanographic Office\n",
       "    source: HYCOM archive file\n",
       "    history: archv2ncdf3z\n",
       "    field_type: instantaneous\n",
       "    Conventions: CF-1.0 NAVO_netcdf_v1.0\n",
       "    History: Translated to CF-1.0 Conventions by Netcdf-Java CDM (CFGridWriter2)\n",
       "Original Dataset = GLBu0.08/expt_19.1/2000/3hrly; Translation Date = 2020-09-22T03:29:47.900Z\n",
       "    geospatial_lat_min: -7.28000020980835\n",
       "    geospatial_lat_max: -2.319999933242798\n",
       "    geospatial_lon_min: 94.9599609375\n",
       "    geospatial_lon_max: 102.0\n",
       "    dimensions(sizes): time(248), depth(1), lat(63), lon(89)\n",
       "    variables(dimensions): int16 water_u(time,depth,lat,lon), float64 time(time), float64 depth(depth), float64 lat(lat), float64 lon(lon), int16 water_v(time,depth,lat,lon)\n",
       "    groups: "
      ]
     },
     "execution_count": 72,
     "metadata": {},
     "output_type": "execute_result"
    }
   ],
   "source": [
    "#masukin lokasi .nc nya dimana\n",
    "fn='D:/smt7/asisten andat/3hrly.nc4'\n",
    "#buka file nc nya dan liat isinya ada apa aja (variabel dan dimensi)\n",
    "ds=nc.Dataset(fn)\n",
    "ds"
   ]
  },
  {
   "cell_type": "markdown",
   "metadata": {},
   "source": [
    "## Deklarasi Data Arus\n",
    "data arus yang digunakan dalam plot quiver merupakan data spasial, jadi gausah diambil di grid tertentu"
   ]
  },
  {
   "cell_type": "code",
   "execution_count": 93,
   "metadata": {},
   "outputs": [
    {
     "name": "stdout",
     "output_type": "stream",
     "text": [
      "dimensi u (1, 1, 63, 63)\n",
      "dimensi v (1, 1, 63, 63)\n",
      "dimensi lon (63,)\n",
      "dimensi lat (63,)\n",
      "dimensi time (248,)\n"
     ]
    }
   ],
   "source": [
    "u=ds.variables['water_u'][:1,:1,:,:63]\n",
    "v=ds.variables['water_v'][:1,:1,:,:63]\n",
    "lon=ds.variables['lon'][:63]\n",
    "lat=ds.variables['lat'][:]\n",
    "time=ds.variables['time'][:]\n",
    "\n",
    "#melihat dimensi masing2 variabel\n",
    "print('dimensi u',np.shape(u))\n",
    "print('dimensi v',np.shape(v))\n",
    "print('dimensi lon',np.shape(lon))\n",
    "print('dimensi lat',np.shape(lat))\n",
    "print('dimensi time',np.shape(time))"
   ]
  },
  {
   "cell_type": "markdown",
   "metadata": {},
   "source": [
    "## Membuat Current Quiver Plot"
   ]
  },
  {
   "cell_type": "code",
   "execution_count": 107,
   "metadata": {},
   "outputs": [
    {
     "name": "stderr",
     "output_type": "stream",
     "text": [
      "C:\\Users\\user\\anaconda3\\lib\\site-packages\\ipykernel_launcher.py:9: RuntimeWarning: invalid value encountered in sqrt\n",
      "  if __name__ == '__main__':\n"
     ]
    },
    {
     "ename": "IndexError",
     "evalue": "too many indices for array",
     "output_type": "error",
     "traceback": [
      "\u001b[1;31m---------------------------------------------------------------------------\u001b[0m",
      "\u001b[1;31mIndexError\u001b[0m                                Traceback (most recent call last)",
      "\u001b[1;32m<ipython-input-107-487ac2c64e40>\u001b[0m in \u001b[0;36m<module>\u001b[1;34m\u001b[0m\n\u001b[0;32m     20\u001b[0m \u001b[0mmap\u001b[0m\u001b[1;33m.\u001b[0m\u001b[0mdrawcoastlines\u001b[0m\u001b[1;33m(\u001b[0m\u001b[0mcolor\u001b[0m \u001b[1;33m=\u001b[0m \u001b[1;34m'0.15'\u001b[0m\u001b[1;33m)\u001b[0m\u001b[1;33m\u001b[0m\u001b[1;33m\u001b[0m\u001b[0m\n\u001b[0;32m     21\u001b[0m \u001b[1;33m\u001b[0m\u001b[0m\n\u001b[1;32m---> 22\u001b[1;33m matplotlib.pyplot.quiver(x[points], y[points], \n\u001b[0m\u001b[0;32m     23\u001b[0m     \u001b[0mu\u001b[0m\u001b[1;33m[\u001b[0m\u001b[0mpoints\u001b[0m\u001b[1;33m]\u001b[0m\u001b[1;33m,\u001b[0m \u001b[0mv\u001b[0m\u001b[1;33m[\u001b[0m\u001b[0mpoints\u001b[0m\u001b[1;33m]\u001b[0m\u001b[1;33m,\u001b[0m \u001b[0mspeed\u001b[0m\u001b[1;33m[\u001b[0m\u001b[0mpoints\u001b[0m\u001b[1;33m]\u001b[0m\u001b[1;33m,\u001b[0m\u001b[1;33m\u001b[0m\u001b[1;33m\u001b[0m\u001b[0m\n\u001b[0;32m     24\u001b[0m     cmap=plt.cm.autumn)\n",
      "\u001b[1;32m~\\anaconda3\\lib\\site-packages\\numpy\\ma\\core.py\u001b[0m in \u001b[0;36m__getitem__\u001b[1;34m(self, indx)\u001b[0m\n\u001b[0;32m   3186\u001b[0m         \u001b[1;31m# mask of being reshaped if it hasn't been set up properly yet\u001b[0m\u001b[1;33m\u001b[0m\u001b[1;33m\u001b[0m\u001b[1;33m\u001b[0m\u001b[0m\n\u001b[0;32m   3187\u001b[0m         \u001b[1;31m# So it's easier to stick to the current version\u001b[0m\u001b[1;33m\u001b[0m\u001b[1;33m\u001b[0m\u001b[1;33m\u001b[0m\u001b[0m\n\u001b[1;32m-> 3188\u001b[1;33m         \u001b[0mdout\u001b[0m \u001b[1;33m=\u001b[0m \u001b[0mself\u001b[0m\u001b[1;33m.\u001b[0m\u001b[0mdata\u001b[0m\u001b[1;33m[\u001b[0m\u001b[0mindx\u001b[0m\u001b[1;33m]\u001b[0m\u001b[1;33m\u001b[0m\u001b[1;33m\u001b[0m\u001b[0m\n\u001b[0m\u001b[0;32m   3189\u001b[0m         \u001b[0m_mask\u001b[0m \u001b[1;33m=\u001b[0m \u001b[0mself\u001b[0m\u001b[1;33m.\u001b[0m\u001b[0m_mask\u001b[0m\u001b[1;33m\u001b[0m\u001b[1;33m\u001b[0m\u001b[0m\n\u001b[0;32m   3190\u001b[0m \u001b[1;33m\u001b[0m\u001b[0m\n",
      "\u001b[1;31mIndexError\u001b[0m: too many indices for array"
     ]
    },
    {
     "data": {
      "image/png": "[encoded data removed]",
      "text/plain": [
       "<Figure size 432x288 with 1 Axes>"
      ]
     },
     "metadata": {},
     "output_type": "display_data"
    }
   ],
   "source": [
    "from mpl_toolkits.basemap import Basemap\n",
    "import matplotlib.pyplot as plt\n",
    "import numpy as np\n",
    "\n",
    "\n",
    "map = Basemap(llcrnrlon=95, llcrnrlat=-2.3, urcrnrlon=102, urcrnrlat=-7.3,\n",
    "              projection='merc', lat_1=30., lat_2=60., lat_0=34.83158, lon_0=-98.)\n",
    "\n",
    "speed = np.sqrt(u*u + v*v)\n",
    "\n",
    "x, y = map(lon, lat)\n",
    "\n",
    "yy = np.arange(0, y.shape[0], 4)\n",
    "xx = np.arange(0, x.shape[0], 4)\n",
    "\n",
    "points = np.meshgrid(yy, xx) ##untuk membuat 2D\n",
    "\n",
    "map.drawmapboundary(fill_color='aqua')\n",
    "map.fillcontinents(color='#cc9955', lake_color='aqua', zorder = 0)\n",
    "map.drawcoastlines(color = '0.15')\n",
    "\n",
    "map.quiver(x[points], y[points], \n",
    "    u[points], v[points], speed[points],\n",
    "    cmap=plt.cm.autumn)\n",
    "\n",
    "plt.show()"
   ]
  },
  {
   "cell_type": "code",
   "execution_count": 104,
   "metadata": {},
   "outputs": [
    {
     "name": "stdout",
     "output_type": "stream",
     "text": [
      "Help on function quiver in module matplotlib.pyplot:\n",
      "\n",
      "quiver(*args, data=None, **kw)\n",
      "    Plot a 2D field of arrows.\n",
      "    \n",
      "    Call signature::\n",
      "    \n",
      "      quiver([X, Y], U, V, [C], **kw)\n",
      "    \n",
      "    Where *X*, *Y* define the arrow locations, *U*, *V* define the arrow\n",
      "    directions, and *C* optionally sets the color.\n",
      "    \n",
      "    **Arrow size**\n",
      "    \n",
      "    The default settings auto-scales the length of the arrows to a reasonable size.\n",
      "    To change this behavior see the *scale* and *scale_units* parameters.\n",
      "    \n",
      "    **Arrow shape**\n",
      "    \n",
      "    The defaults give a slightly swept-back arrow; to make the head a\n",
      "    triangle, make *headaxislength* the same as *headlength*. To make the\n",
      "    arrow more pointed, reduce *headwidth* or increase *headlength* and\n",
      "    *headaxislength*. To make the head smaller relative to the shaft,\n",
      "    scale down all the head parameters. You will probably do best to leave\n",
      "    minshaft alone.\n",
      "    \n",
      "    **Arrow outline**\n",
      "    \n",
      "    *linewidths* and *edgecolors* can be used to customize the arrow\n",
      "    outlines.\n",
      "    \n",
      "    Parameters\n",
      "    ----------\n",
      "    X, Y : 1D or 2D array-like, optional\n",
      "        The x and y coordinates of the arrow locations.\n",
      "    \n",
      "        If not given, they will be generated as a uniform integer meshgrid based\n",
      "        on the dimensions of *U* and *V*.\n",
      "    \n",
      "        If *X* and *Y* are 1D but *U*, *V* are 2D, *X*, *Y* are expanded to 2D\n",
      "        using ``X, Y = np.meshgrid(X, Y)``. In this case ``len(X)`` and ``len(Y)``\n",
      "        must match the column and row dimensions of *U* and *V*.\n",
      "    \n",
      "    U, V : 1D or 2D array-like\n",
      "        The x and y direction components of the arrow vectors.\n",
      "    \n",
      "    C : 1D or 2D array-like, optional\n",
      "        Numeric data that defines the arrow colors by colormapping via *norm* and\n",
      "        *cmap*.\n",
      "    \n",
      "        This does not support explicit colors. If you want to set colors directly,\n",
      "        use *color* instead.\n",
      "    \n",
      "    units : {'width', 'height', 'dots', 'inches', 'x', 'y' 'xy'}, default: 'width'\n",
      "        The arrow dimensions (except for *length*) are measured in multiples of\n",
      "        this unit.\n",
      "    \n",
      "        The following values are supported:\n",
      "    \n",
      "        - 'width', 'height': The width or height of the axis.\n",
      "        - 'dots', 'inches': Pixels or inches based on the figure dpi.\n",
      "        - 'x', 'y', 'xy': *X*, *Y* or :math:`\\sqrt{X^2 + Y^2}` in data units.\n",
      "    \n",
      "        The arrows scale differently depending on the units.  For\n",
      "        'x' or 'y', the arrows get larger as one zooms in; for other\n",
      "        units, the arrow size is independent of the zoom state.  For\n",
      "        'width or 'height', the arrow size increases with the width and\n",
      "        height of the axes, respectively, when the window is resized;\n",
      "        for 'dots' or 'inches', resizing does not change the arrows.\n",
      "    \n",
      "    angles : {'uv', 'xy'} or array-like, optional, default: 'uv'\n",
      "        Method for determining the angle of the arrows.\n",
      "    \n",
      "        - 'uv': The arrow axis aspect ratio is 1 so that\n",
      "          if *U* == *V* the orientation of the arrow on the plot is 45 degrees\n",
      "          counter-clockwise from the horizontal axis (positive to the right).\n",
      "    \n",
      "          Use this if the arrows symbolize a quantity that is not based on\n",
      "          *X*, *Y* data coordinates.\n",
      "    \n",
      "        - 'xy': Arrows point from (x,y) to (x+u, y+v).\n",
      "          Use this for plotting a gradient field, for example.\n",
      "    \n",
      "        - Alternatively, arbitrary angles may be specified explicitly as an array\n",
      "          of values in degrees, counter-clockwise from the horizontal axis.\n",
      "    \n",
      "          In this case *U*, *V* is only used to determine the length of the\n",
      "          arrows.\n",
      "    \n",
      "        Note: inverting a data axis will correspondingly invert the\n",
      "        arrows only with ``angles='xy'``.\n",
      "    \n",
      "    scale : float, optional\n",
      "        Number of data units per arrow length unit, e.g., m/s per plot width; a\n",
      "        smaller scale parameter makes the arrow longer. Default is *None*.\n",
      "    \n",
      "        If *None*, a simple autoscaling algorithm is used, based on the average\n",
      "        vector length and the number of vectors. The arrow length unit is given by\n",
      "        the *scale_units* parameter.\n",
      "    \n",
      "    scale_units : {'width', 'height', 'dots', 'inches', 'x', 'y', 'xy'}, optional\n",
      "        If the *scale* kwarg is *None*, the arrow length unit. Default is *None*.\n",
      "    \n",
      "        e.g. *scale_units* is 'inches', *scale* is 2.0, and\n",
      "        ``(u,v) = (1,0)``, then the vector will be 0.5 inches long.\n",
      "    \n",
      "        If *scale_units* is 'width' or 'height', then the vector will be half the\n",
      "        width/height of the axes.\n",
      "    \n",
      "        If *scale_units* is 'x' then the vector will be 0.5 x-axis\n",
      "        units. To plot vectors in the x-y plane, with u and v having\n",
      "        the same units as x and y, use\n",
      "        ``angles='xy', scale_units='xy', scale=1``.\n",
      "    \n",
      "    width : float, optional\n",
      "        Shaft width in arrow units; default depends on choice of units,\n",
      "        above, and number of vectors; a typical starting value is about\n",
      "        0.005 times the width of the plot.\n",
      "    \n",
      "    headwidth : float, optional, default: 3\n",
      "        Head width as multiple of shaft width.\n",
      "    \n",
      "    headlength : float, optional, default: 5\n",
      "        Head length as multiple of shaft width.\n",
      "    \n",
      "    headaxislength : float, optional, default: 4.5\n",
      "        Head length at shaft intersection.\n",
      "    \n",
      "    minshaft : float, optional, default: 1\n",
      "        Length below which arrow scales, in units of head length. Do not\n",
      "        set this to less than 1, or small arrows will look terrible!\n",
      "    \n",
      "    minlength : float, optional, default: 1\n",
      "        Minimum length as a multiple of shaft width; if an arrow length\n",
      "        is less than this, plot a dot (hexagon) of this diameter instead.\n",
      "    \n",
      "    pivot : {'tail', 'mid', 'middle', 'tip'}, optional, default: 'tail'\n",
      "        The part of the arrow that is anchored to the *X*, *Y* grid. The arrow\n",
      "        rotates about this point.\n",
      "    \n",
      "        'mid' is a synonym for 'middle'.\n",
      "    \n",
      "    color : color or color sequence, optional\n",
      "        Explicit color(s) for the arrows. If *C* has been set, *color* has no\n",
      "        effect.\n",
      "    \n",
      "        This is a synonym for the `~.PolyCollection` *facecolor* parameter.\n",
      "    \n",
      "    Other Parameters\n",
      "    ----------------\n",
      "    **kwargs : `~matplotlib.collections.PolyCollection` properties, optional\n",
      "        All other keyword arguments are passed on to `.PolyCollection`:\n",
      "    \n",
      "          agg_filter: a filter function, which takes a (m, n, 3) float array and a dpi value, and returns a (m, n, 3) array\n",
      "      alpha: float or None\n",
      "      animated: bool\n",
      "      antialiased or aa or antialiaseds: bool or sequence of bools\n",
      "      array: ndarray\n",
      "      capstyle: {'butt', 'round', 'projecting'}\n",
      "      clim: a length 2 sequence of floats; may be overridden in methods that have ``vmin`` and ``vmax`` kwargs.\n",
      "      clip_box: `.Bbox`\n",
      "      clip_on: bool\n",
      "      clip_path: [(`~matplotlib.path.Path`, `.Transform`) | `.Patch` | None]\n",
      "      cmap: colormap or registered colormap name\n",
      "      color: color or sequence of rgba tuples\n",
      "      contains: callable\n",
      "      edgecolor or ec or edgecolors: color or sequence of colors or 'face'\n",
      "      facecolor or facecolors or fc: color or sequence of colors\n",
      "      figure: `.Figure`\n",
      "      gid: str\n",
      "      hatch: {'/', '\\\\', '|', '-', '+', 'x', 'o', 'O', '.', '*'}\n",
      "      in_layout: bool\n",
      "      joinstyle: {'miter', 'round', 'bevel'}\n",
      "      label: object\n",
      "      linestyle or dashes or linestyles or ls: {'-', '--', '-.', ':', '', (offset, on-off-seq), ...}\n",
      "      linewidth or linewidths or lw: float or sequence of floats\n",
      "      norm: `.Normalize`\n",
      "      offset_position: {'screen', 'data'}\n",
      "      offsets: float or sequence of floats\n",
      "      path_effects: `.AbstractPathEffect`\n",
      "      picker: None or bool or float or callable\n",
      "      pickradius: unknown\n",
      "      rasterized: bool or None\n",
      "      sketch_params: (scale: float, length: float, randomness: float)\n",
      "      snap: bool or None\n",
      "      transform: `.Transform`\n",
      "      url: str\n",
      "      urls: List[str] or None\n",
      "      visible: bool\n",
      "      zorder: float\n",
      "    \n",
      "    See Also\n",
      "    --------\n",
      "    quiverkey : Add a key to a quiver plot.\n",
      "\n"
     ]
    }
   ],
   "source": [
    "help(matplotlib.pyplot.quiver)"
   ]
  },
  {
   "cell_type": "code",
   "execution_count": null,
   "metadata": {},
   "outputs": [],
   "source": []
  }
 ],
 "metadata": {
  "kernelspec": {
   "display_name": "Python 3",
   "language": "python",
   "name": "python3"
  },
  "language_info": {
   "codemirror_mode": {
    "name": "ipython",
    "version": 3
   },
   "file_extension": ".py",
   "mimetype": "text/x-python",
   "name": "python",
   "nbconvert_exporter": "python",
   "pygments_lexer": "ipython3",
   "version": "3.7.6"
  }
 },
 "nbformat": 4,
 "nbformat_minor": 4
}
