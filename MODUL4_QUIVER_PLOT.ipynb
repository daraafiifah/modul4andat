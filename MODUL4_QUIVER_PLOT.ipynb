{
 "cells": [
  {
   "cell_type": "markdown",
   "metadata": {},
   "source": [
    "# CURRENT QUIVER PLOT"
   ]
  },
  {
   "cell_type": "code",
   "execution_count": null,
   "metadata": {},
   "outputs": [],
   "source": [
    "#masukin library dulu \n",
    "import os\n",
    "os.environ['PROJ_LIB'] = r'C:/Users/user/anaconda3/Lib/site-packages/mpl_toolkits/basemap'\n",
    "import netCDF4 as nc\n",
    "import numpy as np\n",
    "import pandas as pd\n",
    "import math\n",
    "import matplotlib\n",
    "import matplotlib.pyplot as plt\n",
    "import numpy as np\n",
    "import pandas as pd\n",
    "from   mpl_toolkits.basemap import Basemap, cm, shiftgrid, addcyclic\n",
    "import matplotlib.pyplot as plt\n",
    "from   netCDF4 import *"
   ]
  },
  {
   "cell_type": "markdown",
   "metadata": {},
   "source": [
    "# Input Data Arus"
   ]
  },
  {
   "cell_type": "code",
   "execution_count": null,
   "metadata": {},
   "outputs": [],
   "source": [
    "#masukin lokasi .nc nya dimana\n",
    "fn='D:/.nc4' #D:/smt7/arus.nc\n",
    "#buka file nc nya dan liat isinya ada apa aja (variabel dan dimensi)\n",
    "ds=nc.Dataset(fn)\n",
    "ds"
   ]
  },
  {
   "cell_type": "markdown",
   "metadata": {},
   "source": [
    "## Deklarasi Data Arus\n",
    "data arus yang digunakan dalam plot quiver merupakan data spasial, jadi gausah diambil di grid tertentu"
   ]
  },
  {
   "cell_type": "code",
   "execution_count": null,
   "metadata": {},
   "outputs": [],
   "source": [
    "u10=ds.variables['water_u'][0,0,:,:] \n",
    "v10=ds.variables['water_v'][0,0,:,:]\n",
    "lon=ds.variables['lon'][:]\n",
    "lat=ds.variables['lat'][:]\n",
    "time=ds.variables['time'][:]\n",
    "\n",
    "var = np.sqrt(abs(u10*u10) + (v10*v10))\n",
    "\n",
    "#melihat dimensi masing2 variabel\n",
    "print('dimensi u',np.shape(u10))\n",
    "print('dimensi v',np.shape(v10))\n",
    "print('dimensi lon',np.shape(lon))\n",
    "print('dimensi lat',np.shape(lat))\n",
    "print('dimensi time',np.shape(time))"
   ]
  },
  {
   "cell_type": "code",
   "execution_count": null,
   "metadata": {
    "scrolled": true
   },
   "outputs": [],
   "source": [
    "u, lonsout = addcyclic(u10, lon)\n",
    "v, lonsout = addcyclic(v10, lon)\n",
    "print (\"lon[0]: \", lonsout[0], \"lon[-1]: \", lonsout[-1])\n",
    "print (\"lat[0]: \", lat[0], \"lat[-1]: \", lat[-1])\n",
    "\n",
    "lonsout2=(lonsout[:(len(lonsout)-1)]) #memotong 1 data\n",
    "\n",
    "print (lonsout2[:])\n",
    "print (lat[:])\n",
    "#cek dulu lon dan lat nya naik dari kecil ke besar engga, kalo misalnya belom ditambah begini\n",
    "#lat2= lat[::-1] atau lonsout3=lonsout2[::-1] gitudeh terus dibawah jangan lupa diubah juga waktu plot quiver "
   ]
  },
  {
   "cell_type": "markdown",
   "metadata": {},
   "source": [
    "## Membuat Quiver Plot Arus"
   ]
  },
  {
   "cell_type": "code",
   "execution_count": null,
   "metadata": {},
   "outputs": [],
   "source": [
    "#-- Membuat figure\n",
    "dpi = 100\n",
    "fig = plt.figure(figsize=(1100/dpi, 1100/dpi), dpi=dpi)\n",
    "ax  = fig.add_axes([0.1,0.1,0.8,0.9])\n",
    "\n",
    "#-- Membuat map #isi koordinat masing2 yaa\n",
    "map = Basemap(projection='merc',llcrnrlat= ...,urcrnrlat= ...,\\\n",
    "            resolution='i',  llcrnrlon=...,urcrnrlon=...)\n",
    "\n",
    "map.shadedrelief()\n",
    "\n",
    "#-- menggambarkan coastlines, batas wilayah dan negara\n",
    "map.drawcoastlines()\n",
    "map.drawstates()\n",
    "map.drawcountries()\n",
    "\n",
    "#-- membuat grid\n",
    "map.drawparallels(np.arange(-90,90,1),labels=[1,0,0,0],fontsize=10)\n",
    "map.drawmeridians(np.arange(-180,180,1),labels=[0,0,0,1],fontsize=10)\n",
    "\n",
    "#-- mengubah latitute dan longitude menjadi x y \n",
    "x, y = map(*np.meshgrid(lon,lat))\n",
    "\n",
    "#-- contour levels\n",
    "clevs = np.arange(-1,1.3,0.01) #bisa diubah2 sesuai cakupan data\n",
    "\n",
    "#-- Countour\n",
    "cnplot = map.contourf(x,y,var,clevs,cmap=plt.cm.jet)\n",
    "\n",
    "#-- colorbar\n",
    "cbar = map.colorbar(cnplot,location='bottom',pad=\"10%\")      #-- pad: jarak peta dengan colorbar\n",
    "cbar.set_label('kecepatan (m/s)')                            #-- Masukan nama colorbar\n",
    "\n",
    "#-- transformasi vector dan data koordinat, membuat vector\n",
    "veclon = int(u10.shape[1]/2)                    #-- only every 2nd vector\n",
    "veclat = int(u10.shape[0]/2)                   #-- only every 2nd vector\n",
    "\n",
    "uproj,vproj,xx,yy = map.transform_vector(u,v,lonsout2,lat,veclon,veclat,returnxy=True,masked=True)\n",
    "\n",
    "#-- create vector plot on map\n",
    "vecplot = map.quiver(xx,yy,uproj,vproj,scale=20)\n",
    "qk = plt.quiverkey(vecplot, 0.2, -0.2, 1, '1 m/s', labelpos='W')  #legenda quiver, diubah2 berdasarkan cakupan data juga\n",
    "#JUDUL\n",
    "plt.title('QUIVER PLOT ARUS DI ......') #JUDUL UBAH SESUAI DAERAH / menyesuaikan sendiri\n",
    "#plt.savefig('D:/.png',dpi=300) #D:/smt7/quiver.png"
   ]
  },
  {
   "cell_type": "markdown",
   "metadata": {},
   "source": [
    "# QUIVER PLOT ANGIN DAN SST"
   ]
  },
  {
   "cell_type": "markdown",
   "metadata": {},
   "source": [
    "## Input Data Angin dan SST"
   ]
  },
  {
   "cell_type": "code",
   "execution_count": null,
   "metadata": {},
   "outputs": [],
   "source": [
    "#masukin lokasi .nc nya dimana\n",
    "fn='D:/.nc' #D:/smt7/angin.nc\n",
    "#buka file nc nya dan liat isinya ada apa aja (variabel dan dimensi)\n",
    "ds=nc.Dataset(fn)\n",
    "ds"
   ]
  },
  {
   "cell_type": "markdown",
   "metadata": {},
   "source": [
    "## Deklarasi Data Angin SST\n",
    "karena data spasial jadi tidak perlu dipilih grid tertentu"
   ]
  },
  {
   "cell_type": "code",
   "execution_count": null,
   "metadata": {},
   "outputs": [],
   "source": [
    "u2=ds.variables['u10'][0,:,:]\n",
    "v2=ds.variables['v10'][0,:,:]\n",
    "lon2=ds.variables['longitude'][:]\n",
    "lat2=ds.variables['latitude'][:]\n",
    "time=ds.variables['time'][:]\n",
    "... = ds.variables['sst'][0,:,:] #kira-kira input sst jadi apanya\n",
    "\n",
    "#melihat dimensi masing2 variabel\n",
    "print('dimensi u',np.shape(u2))\n",
    "print('dimensi v',np.shape(v2))\n",
    "print('dimensi lon',np.shape(lon2))\n",
    "print('dimensi lat',np.shape(lat2))\n",
    "print('dimensi time',np.shape(time2))\n",
    "print('dimensi sst',np.shape(...))"
   ]
  },
  {
   "cell_type": "code",
   "execution_count": null,
   "metadata": {},
   "outputs": [],
   "source": [
    "u3, lonsout1 = addcyclic(u2, lon2)\n",
    "v3, lonsout1 = addcyclic(v2, lon2)\n",
    "print (\"lon[0]: \", lonsout1[0], \"lon[-1]: \", lonsout1[-1])\n",
    "print (\"lat[0]: \", lat2[0], \"lat[-1]: \", lat2[-1])\n",
    "\n",
    "lonsout22=(lonsout1[:(len(lonsout1)-1)])\n",
    "#lat2= lat[::-1] #reverse agar latitude dari kecil ke besar\n",
    "print (lonsout22[:])\n",
    "print (lat2[:])\n",
    "\n",
    "#cek dulu lon dan lat nya naik dari kecil ke besar engga, kalo misalnya belom ditambah begini\n",
    "#lat2= lat[::-1] atau lonsout3=lonsout2[::-1] gitudeh terus dibawah jangan lupa diubah juga waktu plot quiver "
   ]
  },
  {
   "cell_type": "code",
   "execution_count": null,
   "metadata": {},
   "outputs": [],
   "source": [
    "#-- Membuat figure\n",
    "dpi = 100\n",
    "fig = plt.figure(figsize=(1100/dpi, 1100/dpi), dpi=dpi)\n",
    "ax  = fig.add_axes([0.1,0.1,0.8,0.9])\n",
    "\n",
    "#-- Membuat map #isi koordinat masing2 yaa\n",
    "map = Basemap(projection='merc',llcrnrlat= ...,urcrnrlat= ...,\\\n",
    "            resolution='i',  llcrnrlon=...,urcrnrlon=...)\n",
    "\n",
    "map.shadedrelief()\n",
    "\n",
    "#-- menggambarkan coastlines, batas wilayah dan negara\n",
    "map.drawcoastlines()\n",
    "map.drawstates()\n",
    "map.drawcountries()\n",
    "\n",
    "#-- membuat grid\n",
    "map.drawparallels(np.arange(-90,90,1),labels=[1,0,0,0],fontsize=10)\n",
    "map.drawmeridians(np.arange(-180,180,1),labels=[0,0,0,1],fontsize=10)\n",
    "\n",
    "#-- mengubah latitute dan longitude menjadi x y \n",
    "x2, y2 = map(*np.meshgrid(lon,lat))\n",
    "\n",
    "#-- contour levels\n",
    "clevs = np.arange(...,...,0.1) #bisa diubah2 sesuai cakupan data(data terkecil,data terbesar,loncat)\n",
    "\n",
    "#-- Countour\n",
    "cnplot = map.contourf(x2,y2,var2,clevs,cmap=plt.cm.jet)\n",
    "\n",
    "#-- colorbar\n",
    "cbar = map.colorbar(cnplot,location='bottom',pad=\"10%\")      #-- pad: jarak peta dengan colorbar\n",
    "cbar.set_label('Temperatur (...)')                            #-- Masukan nama colorbar, kirakira satuannya apa ya dari ecmwf??\n",
    "#-- transformasi vector dan data koordinat, membuat vector\n",
    "veclon2 = int(u10.shape[1]/2)                    #-- only every 2nd vector\n",
    "veclat2 = int(u10.shape[0]/2)                   #-- only every 2nd vector\n",
    "\n",
    "#ubah lat lon nya disini jadi lonsout3 atau lat2\n",
    "uproj2,vproj2,xx2,yy2 = map.transform_vector(u3,v3,lonsout22,lat2,veclon2,veclat2,returnxy=True,masked=True)\n",
    "\n",
    "#-- create vector plot on map\n",
    "vecplot = map.quiver(xx2,yy2,uproj2,vproj2,scale=20) #scale di ubah2 agar panah sesuai \n",
    "qk = plt.quiverkey(vecplot, 0.2, -0.2, 5, '5 m/s', labelpos='W')  #legenda quiver bisa diubah sesuai kebutuhan\n",
    "#JUDUL\n",
    "plt.title('QUIVER PLOT ANGIN DI ......') #JUDUL UBAH SESUAI DAERAH / menyesuaikan sendiri\n",
    "#plt.savefig('D:/.png',dpi=300) #D:/smt7/quiver.png"
   ]
  },
  {
   "cell_type": "markdown",
   "metadata": {},
   "source": [
    "Oleh : Dara Afiifah Meizwar, Oktober 2020"
   ]
  }
 ],
 "metadata": {
  "kernelspec": {
   "display_name": "Python 3",
   "language": "python",
   "name": "python3"
  },
  "language_info": {
   "codemirror_mode": {
    "name": "ipython",
    "version": 3
   },
   "file_extension": ".py",
   "mimetype": "text/x-python",
   "name": "python",
   "nbconvert_exporter": "python",
   "pygments_lexer": "ipython3",
   "version": "3.7.6"
  }
 },
 "nbformat": 4,
 "nbformat_minor": 4
}
