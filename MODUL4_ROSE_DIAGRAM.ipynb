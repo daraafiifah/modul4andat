{
 "cells": [
  {
   "cell_type": "markdown",
   "metadata": {},
   "source": [
    "# WIND ROSE DIAGRAM"
   ]
  },
  {
   "cell_type": "markdown",
   "metadata": {},
   "source": [
    "Dalam pembuatan rose diagram, dibagi kepada 3 langkah yaitu\n",
    "1. Input data dan cek data tersebut khususnya varibel yg buat dipanggil,terus pelajarin dulu dia dimensinya gimana \n",
    "2. Masukan data yang ada pada variabel dalam nc ke variabel buatan kita \n",
    "3. Hitung besaran dan arah \n",
    "4. buat rose diagram"
   ]
  },
  {
   "cell_type": "code",
   "execution_count": null,
   "metadata": {},
   "outputs": [],
   "source": [
    "#masukin library dulu \n",
    "from windrose import WindroseAxes\n",
    "import netCDF4 as nc\n",
    "import numpy as np\n",
    "import pandas as pd\n",
    "import math\n",
    "import matplotlib\n",
    "import matplotlib.pyplot as plt"
   ]
  },
  {
   "cell_type": "markdown",
   "metadata": {},
   "source": [
    "## Input data Angin"
   ]
  },
  {
   "cell_type": "code",
   "execution_count": null,
   "metadata": {},
   "outputs": [],
   "source": [
    "#masukin lokasi .nc nya dimana\n",
    "fn='D:/.nc' #misal 'D:/smt7/angin.nc\n",
    "#buka file nc nya dan liat isinya ada apa aja (variabel dan dimensi)\n",
    "ds=nc.Dataset(fn)\n",
    "ds\n"
   ]
  },
  {
   "cell_type": "markdown",
   "metadata": {},
   "source": [
    "## Deklarasi Variabel Data Angin\n",
    "masukin variabel dalam nc ke variabel buatan kita sendiri\n",
    "\n",
    "rose diagram itu, inputnya harus time series sedangkan pada input data kita tau kalo data yg di download merupakan data spasial makanya diambil deh satu kolom latitude dan longitudenya itu maksudnya ngambil 1 grid.\n",
    "\n",
    "setiap orang dalam setiap kelompok diusahakan mengambil dari grid yang berbeda supaya dapat dilihat ketersesuaian data dalam satu daerah tersebut\n"
   ]
  },
  {
   "cell_type": "code",
   "execution_count": null,
   "metadata": {},
   "outputs": [],
   "source": [
    "\n",
    "u=ds.variables['u10'][:,...,...] #[:,1,1]\n",
    "v=ds.variables['v10'][:,...,...] #[:,1,1]\n",
    "lon=ds.variables['longitude'][:]\n",
    "lat=ds.variables['latitude'][:]\n",
    "time=ds.variables['time'][:]\n",
    "\n",
    "#melihat dimensi masing2 variabel\n",
    "print('dimensi u',np.shape(u))\n",
    "print('dimensi v',np.shape(v))\n",
    "print('dimensi lon',np.shape(lon))\n",
    "print('dimensi lat',np.shape(lat))\n",
    "print('dimensi time',np.shape(time))"
   ]
  },
  {
   "cell_type": "code",
   "execution_count": null,
   "metadata": {},
   "outputs": [],
   "source": [
    "#untuk melihat data\n",
    "data_angin=pd.DataFrame(u,columns=['u'])\n",
    "data_angin['v']=v\n",
    "display(data_angin)"
   ]
  },
  {
   "cell_type": "markdown",
   "metadata": {},
   "source": [
    "## Besaran dan Arah Angin\n",
    "untuk membuat rose diagram, data input nya harus berupa magnitudo dan arah"
   ]
  },
  {
   "cell_type": "code",
   "execution_count": null,
   "metadata": {},
   "outputs": [],
   "source": [
    "\n",
    "mag=[]\n",
    "for i in range(len(data_angin)):\n",
    "    rumuz=math.hypot(data_angin['u'].iloc[i],data_angin['v'].iloc[i])\n",
    "    mag.append(rumuz)\n",
    "data_angin['magnitude']=mag[:]\n",
    "\n",
    "dir=[]\n",
    "for i in range(len(data_angin)):\n",
    "    rumus=360+(180/math.pi)*math.atan2(data_angin['u'].iloc[i],data_angin['v'].iloc[i])\n",
    "    rumus=rumus%360\n",
    "    dir.append(rumus)\n",
    "\n",
    "data_angin['direction']=dir[:]\n",
    "\n",
    "display(data_angin)"
   ]
  },
  {
   "cell_type": "markdown",
   "metadata": {},
   "source": [
    "## Membuat Wind Rose"
   ]
  },
  {
   "cell_type": "code",
   "execution_count": null,
   "metadata": {
    "scrolled": false
   },
   "outputs": [],
   "source": [
    "ax = WindroseAxes.from_ax()\n",
    "ax.bar(data_angin['direction'], data_angin['magnitude'], normed=True, opening=0.8, edgecolor='white', blowto=False)\n",
    "ax.set_title('WIND ROSE DIAGRAM')\n",
    "ax.set_legend(bbox_to_anchor=(-0.1, -0.01))\n",
    "#plt.savefig('D:/.png',dpi=300) #D:/smt7/windrose.png"
   ]
  },
  {
   "cell_type": "markdown",
   "metadata": {},
   "source": [
    "# CURRENT ROSE DIAGRAM\n",
    "## Input Data Arus"
   ]
  },
  {
   "cell_type": "code",
   "execution_count": null,
   "metadata": {},
   "outputs": [],
   "source": [
    "#masukin lokasi .nc nya dimana\n",
    "fn2='D:/.nc' #D:/smt7/Arus.nc\n",
    "#buka file nc nya dan liat isinya ada apa aja (variabel dan dimensi)\n",
    "ds2=nc.Dataset(fn2)\n",
    "ds2\n"
   ]
  },
  {
   "cell_type": "markdown",
   "metadata": {},
   "source": [
    "## Deklarasi Variabel Arus\n",
    "grid yang dipilih pada arus u dan v sama kaya grid angin aja supaya diasumsikan tempatnya deketan"
   ]
  },
  {
   "cell_type": "code",
   "execution_count": null,
   "metadata": {},
   "outputs": [],
   "source": [
    "\n",
    "u2=ds2.variables['water_u'][:,:,...,...] #[:,1,1]\n",
    "v2=ds2.variables['water_v'][:,:,...,...] #[:,1,1]\n",
    "lon2=ds2.variables['lon'][:]\n",
    "lat2=ds2.variables['lat'][:]\n",
    "time2=ds2.variables['time'][:]\n",
    "\n",
    "#melihat dimensi masing2 variabel\n",
    "print('dimensi u',np.shape(u2))\n",
    "print('dimensi v',np.shape(v2))\n",
    "print('dimensi lon',np.shape(lon2))\n",
    "print('dimensi lat',np.shape(lat2))\n",
    "print('dimensi time',np.shape(time2))"
   ]
  },
  {
   "cell_type": "code",
   "execution_count": null,
   "metadata": {},
   "outputs": [],
   "source": [
    "#untuk melihat data\n",
    "data_arus=pd.DataFrame(u2,columns=['u'])\n",
    "data_arus['v']=v2\n",
    "display(data_arus)"
   ]
  },
  {
   "cell_type": "markdown",
   "metadata": {},
   "source": [
    "## Besaran dan Arah Arus"
   ]
  },
  {
   "cell_type": "code",
   "execution_count": null,
   "metadata": {},
   "outputs": [],
   "source": [
    "\n",
    "mag2=[]\n",
    "for i in range(len(data_arus)):\n",
    "    rumuz2=math.hypot(data_arus['u'].iloc[i],data_arus['v'].iloc[i])\n",
    "    mag2.append(rumuz2)\n",
    "data_arus['magnitude']=mag2[:]\n",
    "\n",
    "dir2=[]\n",
    "for i in range(len(data_arus)):\n",
    "    rumus2=360+(180/math.pi)*math.atan2(data_arus['u'].iloc[i],data_arus['v'].iloc[i])\n",
    "    rumus2=rumus2%360\n",
    "    dir2.append(rumus2)\n",
    "data_arus['direction']=dir2[:]\n",
    "\n",
    "display(data_arus)"
   ]
  },
  {
   "cell_type": "markdown",
   "metadata": {},
   "source": [
    "## Membuat Current Rose"
   ]
  },
  {
   "cell_type": "code",
   "execution_count": null,
   "metadata": {},
   "outputs": [],
   "source": [
    "ax = WindroseAxes.from_ax()\n",
    "ax.bar(data_arus['direction'], data_arus['magnitude'], normed=True, opening=0.8, edgecolor='white', blowto=True)\n",
    "ax.set_title('CURRENT ROSE DIAGRAM')\n",
    "ax.set_legend(bbox_to_anchor=(-0.1, -0.01))\n",
    "#plt.savefig('D:/.png',dpi=300) #D:/smt7/currentrose.png"
   ]
  }
 ],
 "metadata": {
  "kernelspec": {
   "display_name": "Python 3",
   "language": "python",
   "name": "python3"
  },
  "language_info": {
   "codemirror_mode": {
    "name": "ipython",
    "version": 3
   },
   "file_extension": ".py",
   "mimetype": "text/x-python",
   "name": "python",
   "nbconvert_exporter": "python",
   "pygments_lexer": "ipython3",
   "version": "3.7.6"
  }
 },
 "nbformat": 4,
 "nbformat_minor": 4
}
