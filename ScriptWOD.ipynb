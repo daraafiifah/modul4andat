{
 "cells": [
  {
   "cell_type": "markdown",
   "metadata": {},
   "source": [
    "# Modul 1 Andat: Script WOD\n",
    "\n",
    "Script dalam file ini mencakup 4 visualisasi data, yaitu\n",
    "1. Lokasi CTD\n",
    "2. Plot Vertikal Sederhana\n",
    "3. Diagram T-S\n",
    "4. Diagram Hovmoller Depth-Station"
   ]
  },
  {
   "cell_type": "code",
   "execution_count": null,
   "metadata": {},
   "outputs": [],
   "source": [
    "#Import Library\n",
    "import netCDF4 as nc\n",
    "import numpy as np\n",
    "import matplotlib.pyplot as plt\n",
    "import pandas as pd\n",
    "from mpl_toolkits.basemap import Basemap\n",
    "import gsw"
   ]
  },
  {
   "cell_type": "markdown",
   "metadata": {},
   "source": [
    "## 1. Lokasi CTD\n",
    "\n",
    "Visualisasi lokasi CTD digunakan untuk mengetahui lokasi data-data CTD dari WOD sehingga dapat ditentukan titik-titik mana sajakah yang akan digunakan datanya untuk langkah selanjutnya"
   ]
  },
  {
   "cell_type": "code",
   "execution_count": null,
   "metadata": {},
   "outputs": [],
   "source": [
    "#Tulis Directory File .nc dari data WOD\n",
    "fn='D:...'\n",
    "\n",
    "#Membuka file .nc\n",
    "ds=nc.Dataset(fn)\n",
    "lats=ds.variables['lat'][:]\n",
    "lons=ds.variables['lon'][:]\n",
    "time=ds.variables['time'][:]\n",
    "cast=ds.variables['cast'][:]\n",
    "\n",
    "#Visualisasi Data\n",
    "mp=Basemap(projection = 'merc',\n",
    "          llcrnrlon=...,\n",
    "          llcrnrlat=...,\n",
    "          urcrnrlon=...,\n",
    "          urcrnrlat=...)\n",
    "\n",
    "x,y=mp(lons,lats)\n",
    "\n",
    "fig,ax=plt.subplots(figsize=(10,13))\n",
    "fig=mp.scatter(x,y)\n",
    "mp.drawcoastlines()\n",
    "mp.drawmapboundary()\n",
    "ax.set_title('Lokasi CTD\\n',fontsize=20)\n",
    "\n",
    "for i, txt in enumerate(cast):\n",
    "    ax.annotate(txt,(x[i],y[i]))\n",
    "    \n",
    "parallels = np.arange(...,...,...)\n",
    "mp.drawparallels(parallels,labels=[True,False,False,True],color='k')\n",
    "meridians=np.arange(...,...,...)\n",
    "mp.drawmeridians(meridians,labels=[False,False,False,True],color='k')\n",
    "\n",
    "#show gambar tanpa export\n",
    "plt.show()\n",
    "\n",
    "#export gambar, berikan directory lokasi export\n",
    "#plt.savefig('D:/...',dpi=150)"
   ]
  },
  {
   "cell_type": "markdown",
   "metadata": {},
   "source": [
    "### Menentukan Stasiun dan Membuka File\n",
    "\n",
    "Setelah melihat lokasi CTD, silakan pilih 10 titik yang akan divisualisasi. Usahakan untuk memilih stasiun yang berdekatan dan memiliki pola lurus. Nama file dari WOD sama dengan nama stasiun yang dipilih. Misal dipilih stasiun 007547629O, maka nama file dari WOD nya adalah wod_007547629O.nc"
   ]
  },
  {
   "cell_type": "code",
   "execution_count": null,
   "metadata": {},
   "outputs": [],
   "source": [
    "#fungsi untuk membuka file nc dan menyimpan variabelnya\n",
    "def bukaNC (fn):\n",
    "    ds=nc.Dataset(fn)\n",
    "    lats=ds.variables['lat'][0:510]\n",
    "    lons=ds.variables['lon'][0:510]\n",
    "    dep=ds.variables['z'][0:510]\n",
    "    temp=ds.variables['Temperature'][0:510]\n",
    "    sal=ds.variables['Salinity'][0:510]\n",
    "    \n",
    "    dg={'lat':lats,\n",
    "         'lon':lons,\n",
    "         'dep':dep,\n",
    "         'temp':temp,\n",
    "         'sal':sal}\n",
    "    \n",
    "    df=pd.DataFrame(dg)\n",
    "    return df\n",
    "\n",
    "#Tulis directory lokasi file .nc\n",
    "fn1='D:/...'\n",
    "fn2='D:/...'\n",
    "fn3='D:/...'\n",
    "fn4='D:/...'\n",
    "fn5='D:/...'\n",
    "fn6='D:/...'\n",
    "fn7='D:/...'\n",
    "\n",
    "\n",
    "#Membuka file .nc\n",
    "data1,data2,data3,data4,data5=bukaNC(fn1),bukaNC(fn2),bukaNC(fn3),bukaNC(fn4),bukaNC(fn5)\n",
    "data6,data7=bukaNC(fn6),bukaNC(fn7)"
   ]
  },
  {
   "cell_type": "markdown",
   "metadata": {},
   "source": [
    "## 2. Profil Vertikal Sederhana\n",
    "\n",
    "Setelah membuka 10 file, pilihlah salah satu data untuk divisualisasikan profil temperatur terhadap kedalamannya"
   ]
  },
  {
   "cell_type": "code",
   "execution_count": null,
   "metadata": {},
   "outputs": [],
   "source": [
    "#import data\n",
    "\n",
    "lat1=(data...['lat'][...])\n",
    "lon1=(data...['lon'][...])\n",
    "dep=(data...['dep'])\n",
    "temp=(data...['temp'])\n",
    "sal=(data...['sal'])\n",
    "\n",
    "#ylabel=np.arange(0,-1100,-100)\n",
    "\n",
    "#membuat plot\n",
    "fig,ax=plt.subplots(figsize=(10,10),constrained_layout=True)\n",
    "axes1=ax.plot(temp,-dep)\n",
    "ax.set_xlabel('\\nTemperatur ($^o$C)')\n",
    "ax.xaxis.set_label_position('top')\n",
    "ax.xaxis.set_ticks_position('top')\n",
    "\n",
    "#ax.set_yticks(ticks=ylabel)\n",
    "ax.set_ylabel('Kedalaman (m)')\n",
    "ax.set_title('Grafik Suhu terhadap Kedalaman di Titik Koordinat '\n",
    "            +str(round(lat1,2))+' $^o$LS '\n",
    "            +str(round(lon1,2))+' $^o$BT',fontsize=16)\n",
    "#show gambar tanpa export\n",
    "plt.show()\n",
    "\n",
    "#export gambar, berikan directory lokasi export\n",
    "#plt.savefig('D:/...')"
   ]
  },
  {
   "cell_type": "markdown",
   "metadata": {},
   "source": [
    "## 3. Diagram T-S\n",
    "Script ini memvisualisasikan profil T-S juga menghitung dan membuat kontur densitas dari massa air di titik yang telah ditentukan."
   ]
  },
  {
   "cell_type": "code",
   "execution_count": null,
   "metadata": {},
   "outputs": [],
   "source": [
    "#Menghitung densitas massa air\n",
    "Tmin=np.min(temp)\n",
    "Tmax=np.max(temp)\n",
    "Smin=np.min(sal)\n",
    "Smax=np.max(sal)\n",
    "\n",
    "tempL=np.linspace(Tmin-1,Tmax+1.156)\n",
    "salL=np.linspace(Smin-1,Smax+1.156)\n",
    "\n",
    "Tg,Sg=np.meshgrid(tempL,salL)\n",
    "sigma_theta=gsw.sigma0(Sg,Tg)\n",
    "cnt=np.linspace(sigma_theta.min(),sigma_theta.max(),510)\n",
    "\n",
    "#Membuat plot T-S\n",
    "fig,ax=plt.subplots(figsize=(10,10))\n",
    "a=plt.scatter(sal,temp,c=cnt,cmap='winter_r')\n",
    "b=ax.contour(Sg,Tg,sigma_theta,zorder=1,colors='grey')\n",
    "c=plt.clabel(b)\n",
    "d=plt.colorbar(a)\n",
    "e=d.set_label('Densitas (kg/m$^3$)')\n",
    "ax.set_xlabel('Salinitas (psu)\\n')\n",
    "ax.xaxis.set_label_position('top')\n",
    "ax.xaxis.set_ticks_position('top')\n",
    "ax.set_ylabel('Temperatur ($^o$C)')\n",
    "ax.set_title('\\nDiagram T-S\\n',fontsize=16)\n",
    "\n",
    "#show gambar tanpa export\n",
    "plt.show()\n",
    "\n",
    "#export gambar, berikan directory lokasi export\n",
    "#plt.savefig('D:/...',dpi=150)"
   ]
  },
  {
   "cell_type": "markdown",
   "metadata": {},
   "source": [
    "## 4. Diagram Hovmoller Depth-Station"
   ]
  },
  {
   "cell_type": "code",
   "execution_count": null,
   "metadata": {},
   "outputs": [],
   "source": [
    "#Pendefinisian Variabel yang akan diplot\n",
    "T_dum={0:data1['temp'],\n",
    "       1:data2['temp'],\n",
    "       2:data3['temp'],\n",
    "       3:data4['temp'],\n",
    "       4:data5['temp'],\n",
    "       5:data6['temp'],\n",
    "       6:data7['temp'],\n",
    "       7:data8['temp']}\n",
    "\n",
    "T_dum2=pd.DataFrame(T_dum)\n",
    "T=T_dum2.T\n",
    "site=np.arange(1,8,1)\n",
    "depth=data1['dep']\n",
    "#depthlabel=np.arange(-1000,100,100)\n",
    "y,x=np.meshgrid(depth,site)\n",
    "\n",
    "#Visualisasi Data\n",
    "fig,ax=plt.subplots(figsize=(10,8))\n",
    "a=plt.pcolormesh(x,-y,T,cmap='jet',shading='gouraud')\n",
    "b=plt.colorbar()\n",
    "c=plt.contour(x,-y,T,[17,21],colors='k',linewidths=0.5)\n",
    "d=b.set_label('Temperatur ($^o$C)')\n",
    "plt.title('Diagram Hovmuller (Depth-Station) Temperatur\\n',fontsize=20)\n",
    "plt.clabel(c, fmt = '%2.1f', fontsize=11)\n",
    "#ax.set_yticks(ticks=depthlabel)\n",
    "ax.set(xlabel=('Stasiun'), ylabel = ('Depth (m)'))\n",
    "\n",
    "#show gambar tanpa export\n",
    "plt.show()\n",
    "\n",
    "#export gambar, berikan directory lokasi export\n",
    "#plt.savefig('D:/...',dpi=150)"
   ]
  }
 ],
 "metadata": {
  "kernelspec": {
   "display_name": "Python 3",
   "language": "python",
   "name": "python3"
  },
  "language_info": {
   "codemirror_mode": {
    "name": "ipython",
    "version": 3
   },
   "file_extension": ".py",
   "mimetype": "text/x-python",
   "name": "python",
   "nbconvert_exporter": "python",
   "pygments_lexer": "ipython3",
   "version": "3.8.3"
  }
 },
 "nbformat": 4,
 "nbformat_minor": 4
}
