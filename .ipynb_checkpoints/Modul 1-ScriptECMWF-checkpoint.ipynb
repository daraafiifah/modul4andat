{
 "cells": [
  {
   "cell_type": "markdown",
   "metadata": {},
   "source": [
    "# Modul 1 Andat: Script ECMWF\n",
    "\n",
    "Script dalam file ini mencakup 5 visualisasi data, yaitu\n",
    "\n",
    "1. Plot Time Series Sederhana\n",
    "2. Diagram Histogram Bivariat \n",
    "3. Plot Horizontal\n",
    "4. Diagram Hovmoller Latitude-Time\n",
    "5. Diagram Hovmoller Time-Longitude"
   ]
  },
  {
   "cell_type": "code",
   "execution_count": null,
   "metadata": {},
   "outputs": [],
   "source": [
    "#Import Library\n",
    "import netCDF4 as nc\n",
    "import numpy as np\n",
    "import matplotlib.pyplot as plt\n",
    "import pandas as pd\n",
    "from mpl_toolkits.basemap import Basemap"
   ]
  },
  {
   "cell_type": "code",
   "execution_count": null,
   "metadata": {},
   "outputs": [],
   "source": [
    "#Membuka file\n",
    "fn='D:/.....'\n",
    "\n",
    "ds=nc.Dataset(fn)\n",
    "\n",
    "print(ds)\n",
    "\n",
    "lats=ds.variables['latitude'][:]\n",
    "lons=ds.variables['longitude'][:]\n",
    "time=ds.variables['time'][:]\n",
    "sst=(ds.variables['sst'][:]-273.15)\n",
    "swh=ds.variables['swh'][:,0,0]\n",
    "mwp=ds.variables['mwp'][:,0,0]"
   ]
  },
  {
   "cell_type": "markdown",
   "metadata": {},
   "source": [
    "## 1. Plot Time Series Sederhana\n",
    "Plot ini digunakan untuk mengetahui variasi temporal dari suhu permukaan laut di satu titik koordinat"
   ]
  },
  {
   "cell_type": "code",
   "execution_count": null,
   "metadata": {},
   "outputs": [],
   "source": [
    "x=np.linspace(0,30,num=31)\n",
    "\n",
    "fig,ax=plt.subplots(figsize=(9,6))\n",
    "fig=plt.plot(x,(sst[:,...,...]))\n",
    "ax.set_xlabel('Tanggal')\n",
    "ax.set_ylabel('Temperatur')\n",
    "ax.set_title('Grafik Suhu Temporal selama bulan Agustus 2018\\n'+\n",
    "             'di Titik Koordinat '+str(-round(lats[...],2))+'$^o$ LS '+\n",
    "            str(round(lons[...],2))+'$^o$ BT')\n",
    "\n",
    "#show gambar tanpa export\n",
    "plt.show()\n",
    "\n",
    "#export gambar, berikan directory lokasi export\n",
    "#plt.savefig('D:/...',dpi=150)"
   ]
  },
  {
   "cell_type": "markdown",
   "metadata": {},
   "source": [
    "## 2. Diagram Histogram Bivariat\n",
    "\n",
    "Histogram merupakan salah satu metode penyajian data yang menunjukkan frekuensi data. Histogram bivariat menjelaskan frekuensi kombinasi antara 2 variabel, dalam hal ini periode gelombang rata-rata (Ts) dan tinggi gelombang signifikan (Hs)"
   ]
  },
  {
   "cell_type": "code",
   "execution_count": null,
   "metadata": {
    "scrolled": true
   },
   "outputs": [],
   "source": [
    "#Memilih data\n",
    "for a in range (1,...):\n",
    "    for b in range (0,...):\n",
    "        swh2=ds.variables['swh'][:,a,b]\n",
    "        swh=np.concatenate((swh, swh2))\n",
    "        mwp2=ds.variables['mwp'][:,a,b]\n",
    "        mwp=np.concatenate((mwp, mwp2))        \n",
    "        \n",
    "Hs=np.ma.MaskedArray.tolist(swh)\n",
    "Ts=np.ma.MaskedArray.tolist(mwp)\n",
    "\n",
    "Hsmax,Hsmin,Tsmax,Tsmin=np.amax(Hs),np.amin(Hs),np.amax(Ts),np.amin(Ts)\n",
    "\n",
    "rangeHs=np.arange(Hsmin.round(),Hsmax.round()+1,1)\n",
    "rangeTs=np.arange(Tsmin.round(),Tsmax.round()+1,1)\n",
    "\n",
    "N,xedges,yedges=np.histogram2d(Hs,Ts)\n",
    "fN=len(N)\n",
    "\n",
    "for t in range(0,fN):\n",
    "    for s in range(0,fN):\n",
    "        if N[t][s]==0:\n",
    "            N[t][s]=np.nan\n",
    "\n",
    "#Visualisasi Data\n",
    "fig,ax=plt.subplots(figsize=(9,9))\n",
    "fig=plt.imshow(N,\n",
    "              extent=[0,fN,0,fN])\n",
    "plt.colorbar(label='Jumlah Kejadian',shrink=0.8)\n",
    "plt.title('Histogram Bivariat Hs dan Ts \\n'+\n",
    "          '\\n',fontsize=20)\n",
    "plt.xticks(ticks=np.arange(0,fN+1,1))\n",
    "plt.yticks(ticks=np.arange(0,fN+1,1))\n",
    "ax.set_xlabel('Hs (m)',fontsize=16)\n",
    "ax.set_ylabel('Ts (s)',fontsize=16)\n",
    "\n",
    "#show gambar tanpa export\n",
    "plt.show()\n",
    "\n",
    "#export gambar, berikan directory lokasi export\n",
    "#plt.savefig('D:/...',dpi=150)"
   ]
  },
  {
   "cell_type": "markdown",
   "metadata": {},
   "source": [
    "## 3. Plot Horizontal\n",
    "Plot horizontal memvisualisasikan variasi spasial dari suatu parameter pada waktu tertentu."
   ]
  },
  {
   "cell_type": "code",
   "execution_count": null,
   "metadata": {},
   "outputs": [],
   "source": [
    "#Membuat Basemap\n",
    "mp=Basemap(projection = 'merc',\n",
    "          llcrnrlon=...,\n",
    "          llcrnrlat=...,\n",
    "          urcrnrlon=...,\n",
    "          urcrnrlat=...)\n",
    "\n",
    "lon,lat=np.meshgrid(lons,lats)\n",
    "x,y=mp(lon,lat)\n",
    "\n",
    "#Visualisasi Data\n",
    "fig,ax=plt.subplots(figsize=(13,13))\n",
    "fig=mp.pcolor(x,y,np.squeeze(sst[...,:,:]),cmap='jet',shading='auto') \n",
    "mp.drawcoastlines()\n",
    "mp.drawmapboundary()\n",
    "mp.fillcontinents(color='black',lake_color='aqua')\n",
    "\n",
    "parallels = np.arange(...,...,...)\n",
    "mp.drawparallels(parallels,labels=[True,False,False,True],color='k')\n",
    "meridians=np.arange(...,...,...)\n",
    "mp.drawmeridians(meridians,labels=[False,False,False,True],color='k')\n",
    "\n",
    "cbar=mp.colorbar(fig,location='right')\n",
    "d=cbar.set_label('Temperatur ($^o$C)')\n",
    "plt.clim(23,27)\n",
    "plt.title('Suhu Permukaan Laut \\n \\n',fontsize=24)\n",
    "\n",
    "#show gambar tanpa export\n",
    "plt.show()\n",
    "\n",
    "#export gambar, berikan directory lokasi export\n",
    "#plt.savefig('D:/...',dpi=150)"
   ]
  },
  {
   "cell_type": "markdown",
   "metadata": {},
   "source": [
    "## 4. Diagram Hovmoller Latitude-Time"
   ]
  },
  {
   "cell_type": "code",
   "execution_count": null,
   "metadata": {},
   "outputs": [],
   "source": [
    "#Memilih data\n",
    "s1=np.ma.MaskedArray.tolist(sst[0,:,...])\n",
    "Tdict={0:s1}\n",
    "df=pd.DataFrame(Tdict)\n",
    "\n",
    "for i in range(1,31):\n",
    "    h=sst[i,:,...]\n",
    "    df.insert(i,i,h,True)\n",
    "\n",
    "x=np.arange(1,32,1)\n",
    "xlabel=np.arange(1,32,1)\n",
    "ylabel=np.arange(...,...,...)\n",
    "x,y=np.meshgrid(x,lats)\n",
    "dfT=df.T\n",
    "\n",
    "#Visualisasi Data\n",
    "fig,ax=plt.subplots(figsize=(12,8))\n",
    "a=plt.pcolormesh(x,y,df,cmap='jet',shading='gouraud')\n",
    "b=plt.colorbar()\n",
    "c=b.set_label('Temperatur ($^o$C)')\n",
    "ax.set_xticks(ticks=xlabel)\n",
    "ax.set_yticks(ticks=ylabel)\n",
    "ax.set(xlabel=('Agustus 2018'), ylabel = ('Lintang ($^o$)'))\n",
    "plt.clim(23,27)\n",
    "plt.title('Diagram Hovmuller Longitude-Time Temperatur di '+\n",
    "          str(round(lons[19]))+'$^o$ BT\\n'+\n",
    "          '...',fontsize=20)\n",
    "\n",
    "#show gambar tanpa export\n",
    "plt.show()\n",
    "\n",
    "#export gambar, berikan directory lokasi export\n",
    "#plt.savefig('D:/...',dpi=150)"
   ]
  },
  {
   "cell_type": "markdown",
   "metadata": {},
   "source": [
    "## 5. Hovmoller Time-Longitude"
   ]
  },
  {
   "cell_type": "code",
   "execution_count": null,
   "metadata": {},
   "outputs": [],
   "source": [
    "#Memilih data\n",
    "s1=np.ma.MaskedArray.tolist(sst[0,...,:])\n",
    "Tdict={0:s1}\n",
    "df=pd.DataFrame(Tdict)\n",
    "\n",
    "for i in range(1,31):\n",
    "    h=sst[i,...,:]\n",
    "    df.insert(i,i,h,True)\n",
    "\n",
    "x=np.arange(1,32,1)\n",
    "ylabel=np.arange(1,32,1)\n",
    "xlabel=np.arange(...,....,...)\n",
    "x,y=np.meshgrid(x,lons)\n",
    "dfT=df.T\n",
    "\n",
    "#Visualisasi Data\n",
    "fig,ax=plt.subplots(figsize=(12,8))\n",
    "a=plt.pcolormesh(y,x,df,cmap='jet',shading='gouraud')\n",
    "b=plt.colorbar()\n",
    "c=b.set_label('Temperatur ($^o$C)')\n",
    "ax.set_xticks(ticks=xlabel)\n",
    "ax.set_yticks(ticks=ylabel)\n",
    "ax.set(xlabel=('Bujur ($^o$)'), ylabel = ('Agustus 2018'))\n",
    "plt.clim(23,27)\n",
    "plt.title('Diagram Hovmuller Time-Longitude Temperatur di '+\n",
    "          str(-round(lats[...]))+'$^o$ LS\\n'+\n",
    "          '...',fontsize=20)\n",
    "\n",
    "#show gambar tanpa export\n",
    "plt.show()\n",
    "\n",
    "#export gambar, berikan directory lokasi export\n",
    "#plt.savefig('D:/...',dpi=150)"
   ]
  },
  {
   "cell_type": "markdown",
   "metadata": {},
   "source": [
    "disusun oleh Aulia Salsabella, September 2020"
   ]
  }
 ],
 "metadata": {
  "kernelspec": {
   "display_name": "Python 3",
   "language": "python",
   "name": "python3"
  },
  "language_info": {
   "codemirror_mode": {
    "name": "ipython",
    "version": 3
   },
   "file_extension": ".py",
   "mimetype": "text/x-python",
   "name": "python",
   "nbconvert_exporter": "python",
   "pygments_lexer": "ipython3",
   "version": "3.7.6"
  }
 },
 "nbformat": 4,
 "nbformat_minor": 4
}
