{
 "cells": [
  {
   "cell_type": "markdown",
   "metadata": {},
   "source": [
    "#  CURRENT FEATHER PLOT"
   ]
  },
  {
   "cell_type": "code",
   "execution_count": null,
   "metadata": {},
   "outputs": [],
   "source": [
    "#masukin library dulu \n",
    "import netCDF4 as nc\n",
    "import numpy as np\n",
    "import pandas as pd\n",
    "import math\n",
    "import numpy as np\n",
    "import matplotlib.pyplot as plt\n",
    "from matplotlib.dates import date2num"
   ]
  },
  {
   "cell_type": "markdown",
   "metadata": {},
   "source": [
    "## Input Data Arus"
   ]
  },
  {
   "cell_type": "code",
   "execution_count": null,
   "metadata": {},
   "outputs": [],
   "source": [
    "#masukin lokasi .nc nya dimana\n",
    "fn='D:/.nc' #D:/smt7/arus.nc\n",
    "#buka file nc nya dan liat isinya ada apa aja (variabel dan dimensi)\n",
    "ds=nc.Dataset(fn)\n",
    "ds"
   ]
  },
  {
   "cell_type": "markdown",
   "metadata": {},
   "source": [
    "## Deklarasi Variabel Arus\n",
    "masukin variabel dalam nc ke variabel buatan kita sendiri\n",
    "\n",
    "feather plot inputnya komponen u, v, dan waktu sebagai sumbu x\n",
    "\n",
    "feather plot itu, inputnya harus time series sedangkan pada input data kita tau kalo data yg di download merupakan data spasial makanya diambil deh satu kolom latitude dan longitudenya itu maksudnya ngambil 1 grid.\n",
    "\n",
    "setiap orang dalam setiap kelompok diusahakan mengambil dari grid yang berbeda supaya dapat dilihat ketersesuaian data dalam satu daerah tersebut\n",
    "\n",
    "grid yg diambil samain aja sama grid windrose dan current rose"
   ]
  },
  {
   "cell_type": "code",
   "execution_count": null,
   "metadata": {},
   "outputs": [],
   "source": [
    "u=ds.variables['water_u'][:,:,...,...] #[:,:,1,1]\n",
    "v=ds.variables['water_v'][:,:,...,...] #[:,:,1,1]\n",
    "lon=ds.variables['lon'][:]\n",
    "lat=ds.variables['lat'][:]\n",
    "time=ds.variables['time'][:]\n",
    "\n",
    "#melihat dimensi masing2 variabel\n",
    "print('dimensi u',np.shape(u))\n",
    "print('dimensi v',np.shape(v))\n",
    "print('dimensi lon',np.shape(lon))\n",
    "print('dimensi lat',np.shape(lat))\n",
    "print('dimensi time',np.shape(time))"
   ]
  },
  {
   "cell_type": "code",
   "execution_count": null,
   "metadata": {},
   "outputs": [],
   "source": [
    "#untuk melihat data\n",
    "data_arus=pd.DataFrame(u,columns=['u'])\n",
    "data_arus['v']=v\n",
    "data_arus['time']=time\n",
    "display(data_arus)"
   ]
  },
  {
   "cell_type": "markdown",
   "metadata": {},
   "source": [
    "## Membuat Current Feather Plot"
   ]
  },
  {
   "cell_type": "code",
   "execution_count": null,
   "metadata": {},
   "outputs": [],
   "source": [
    "import numpy as np\n",
    "import matplotlib.pyplot as plt\n",
    "from matplotlib.dates import date2num\n",
    "\n",
    "\n",
    "def stick_plot(time, u, v, **kw):\n",
    "    width = kw.pop('width', 0.002)\n",
    "    headwidth = kw.pop('headwidth', 0)\n",
    "    headlength = kw.pop('headlength', 0)\n",
    "    headaxislength = kw.pop('headaxislength', 0)\n",
    "    angles = kw.pop('angles', 'uv')\n",
    "    ax = kw.pop('ax', None)\n",
    "    \n",
    "    if angles != 'uv':\n",
    "        raise AssertionError(\"Stickplot angles must be 'uv' so that\"\n",
    "                             \"if *U*==*V* the angle of the arrow on\"\n",
    "                             \"the plot is 45 degrees CCW from the *x*-axis.\")\n",
    "\n",
    "    time, u, v = map(np.asanyarray, (time, u, v))\n",
    "    if not ax:\n",
    "        fig, ax = plt.subplots()\n",
    "    \n",
    "    q = ax.quiver(date2num(time), [[0]*len(time)], u, v,\n",
    "                  angles='uv', width=width, headwidth=headwidth,\n",
    "                  headlength=headlength, headaxislength=headaxislength,\n",
    "                  **kw)\n",
    "\n",
    "    ax.axes.get_yaxis().set_visible(False)\n",
    "    ax.xaxis_date()\n",
    "    return q"
   ]
  },
  {
   "cell_type": "code",
   "execution_count": null,
   "metadata": {},
   "outputs": [],
   "source": [
    "from datetime import datetime, timedelta, date\n",
    "x = data_arus\n",
    "start = datetime(2000, 7, 1, 0, 0) #tahun,bulan,hari\n",
    "t = [start + timedelta(hours=24*n) for n in range(len(x))] #karena data diambil setiap 1 hari, cek datanya dulu\n"
   ]
  },
  {
   "cell_type": "code",
   "execution_count": null,
   "metadata": {},
   "outputs": [],
   "source": [
    "fig, ax = plt.subplots(figsize=(20, 8))\n",
    "\n",
    "q = stick_plot(t, u, v, ax=ax, width=0.002, color='coral')\n",
    "ax.set_title('CURRENT FEATHER PLOT')\n",
    "ax.set_xlabel('WAKTU')\n",
    "ref = 1 #disesuaikan dengan data\n",
    "qk = plt.quiverkey(q, 0.1, 0.85, ref,\n",
    "                  \"%s m/s \" % ref,\n",
    "                  labelpos='N', coordinates='axes')\n",
    "\n",
    "_ = plt.xticks(rotation=70)\n",
    "#save gambarnya yaaa \n",
    "#plt.savefig('D:/.png',dpi=300) #D:/smt7/arusfeather.png'"
   ]
  },
  {
   "cell_type": "markdown",
   "metadata": {},
   "source": [
    "# WAVE FEATHER PLOT\n",
    "## Input Variabel Gelombang"
   ]
  },
  {
   "cell_type": "code",
   "execution_count": null,
   "metadata": {},
   "outputs": [],
   "source": [
    "#masukin lokasi .nc nya dimana\n",
    "fn2='D:/.nc' #D:/smt7/gelombang.nc\n",
    "#buka file nc nya dan liat isinya ada apa aja (variabel dan dimensi)\n",
    "ds2=nc.Dataset(fn2)\n",
    "ds2\n"
   ]
  },
  {
   "cell_type": "markdown",
   "metadata": {},
   "source": [
    "## Deklarasi Variabel Gelombang"
   ]
  },
  {
   "cell_type": "code",
   "execution_count": null,
   "metadata": {},
   "outputs": [],
   "source": [
    "swh=ds2.variables['swh'][:,...,...] #[:,1,1]\n",
    "mwd=ds2.variables['mwd'][:,...,...] #[:,1,1]\n",
    "lon2=ds2.variables['longitude'][:]\n",
    "lat2=ds2.variables['latitude'][:]\n",
    "time2=ds2.variables['time'][:]\n",
    "\n",
    "#melihat dimensi masing2 variabel\n",
    "print('dimensi swh',np.shape(swh))\n",
    "print('dimensi mwd',np.shape(mwd))\n",
    "print('dimensi lon',np.shape(lon2))\n",
    "print('dimensi lat',np.shape(lat2))\n",
    "print('dimensi time',np.shape(time2))"
   ]
  },
  {
   "cell_type": "code",
   "execution_count": null,
   "metadata": {},
   "outputs": [],
   "source": [
    "#untuk melihat data\n",
    "data_gel=pd.DataFrame(swh,columns=['Hs'])\n",
    "data_gel['Direction']=mwd\n",
    "data_gel['time']=time2\n",
    "#data_gel.describe()\n",
    "display(data_gel)"
   ]
  },
  {
   "cell_type": "markdown",
   "metadata": {},
   "source": [
    "## Menghitung Hy dan Hx\n",
    "karena data yang ada adalah Hs dan Arahnya, maka Hy dan Hx digitung terlebih dahulu"
   ]
  },
  {
   "cell_type": "code",
   "execution_count": null,
   "metadata": {},
   "outputs": [],
   "source": [
    "Hx=[]\n",
    "for i in range(len(data_gel)):\n",
    "    hx=data_gel['Hs'].iloc[i]*math.cos(math.radians(data_gel['Direction'].iloc[i]))\n",
    "    Hx.append(hx)\n",
    "data_gel['Hx']=Hx[:]\n",
    "\n",
    "Hy=[]\n",
    "for i in range(len(data_gel)):\n",
    "    hy=data_gel['Hs'].iloc[i]*math.sin(math.radians(data_gel['Direction'].iloc[i]))\n",
    "    Hy.append(hy)\n",
    "data_gel['Hy']=Hy[:]\n",
    "\n",
    "display(data_gel)"
   ]
  },
  {
   "cell_type": "markdown",
   "metadata": {},
   "source": [
    "## Membuat Wave Feather Plot"
   ]
  },
  {
   "cell_type": "code",
   "execution_count": null,
   "metadata": {},
   "outputs": [],
   "source": [
    "def stick_plot(time, u, v, **kw):\n",
    "    width = kw.pop('width', 0.002)\n",
    "    headwidth = kw.pop('headwidth', 0)\n",
    "    headlength = kw.pop('headlength', 0)\n",
    "    headaxislength = kw.pop('headaxislength', 0)\n",
    "    angles = kw.pop('angles', 'uv')\n",
    "    ax = kw.pop('ax', None)\n",
    "    \n",
    "    if angles != 'uv':\n",
    "        raise AssertionError(\"Stickplot angles must be 'uv' so that\"\n",
    "                             \"if *U*==*V* the angle of the arrow on\"\n",
    "                             \"the plot is 45 degrees CCW from the *x*-axis.\")\n",
    "\n",
    "    time, u, v = map(np.asanyarray, (time, u, v))\n",
    "    if not ax:\n",
    "        fig, ax = plt.subplots()\n",
    "    \n",
    "    q = ax.quiver(date2num(time), [[0]*len(time)], u, v,\n",
    "                  angles='uv', width=width, headwidth=headwidth,\n",
    "                  headlength=headlength, headaxislength=headaxislength,\n",
    "                  **kw)\n",
    "\n",
    "    ax.axes.get_yaxis().set_visible(False)\n",
    "    ax.xaxis_date()\n",
    "    return q"
   ]
  },
  {
   "cell_type": "code",
   "execution_count": null,
   "metadata": {},
   "outputs": [],
   "source": [
    "from datetime import datetime, timedelta, date\n",
    "x = data_gel\n",
    "start = datetime(2000, 7, 1, 0, 0) #tahun,bulan,hari\n",
    "t = [start + timedelta(hours=6*n) for n in range(len(x))] #karena data diambil setiap 6 jam, cek datanya dulu\n"
   ]
  },
  {
   "cell_type": "code",
   "execution_count": null,
   "metadata": {},
   "outputs": [],
   "source": [
    "u=data_gel['Hx']\n",
    "v=data_gel['Hy']\n",
    "fig, ax = plt.subplots(figsize=(20, 8))\n",
    "\n",
    "q = stick_plot(t, u, v, ax=ax, width=0.002, color='coral')\n",
    "ax.set_title('WAVE FEATHER PLOT')\n",
    "ax.set_xlabel('WAKTU')\n",
    "ref = 1 #disesuaikan dengan data\n",
    "qk = plt.quiverkey(q, 0.1, 0.85, ref,\n",
    "                  \"%s m/s \" % ref,\n",
    "                  labelpos='N', coordinates='axes')\n",
    "\n",
    "_ = plt.xticks(rotation=70)\n",
    "\n",
    "#save gambarnya yaaa \n",
    "#plt.savefig('D:/.png',dpi=300) #D:/smt7/wavefeather.png"
   ]
  },
  {
   "cell_type": "markdown",
   "metadata": {},
   "source": [
    "Oleh : Dara Afiifah Meizwar, Oktober 2020"
   ]
  }
 ],
 "metadata": {
  "kernelspec": {
   "display_name": "Python 3",
   "language": "python",
   "name": "python3"
  },
  "language_info": {
   "codemirror_mode": {
    "name": "ipython",
    "version": 3
   },
   "file_extension": ".py",
   "mimetype": "text/x-python",
   "name": "python",
   "nbconvert_exporter": "python",
   "pygments_lexer": "ipython3",
   "version": "3.7.6"
  }
 },
 "nbformat": 4,
 "nbformat_minor": 4
}
