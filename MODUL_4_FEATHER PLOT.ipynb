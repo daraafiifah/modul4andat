{
 "cells": [
  {
   "cell_type": "markdown",
   "metadata": {},
   "source": [
    "#  CURRENT FEATHER PLOT"
   ]
  },
  {
   "cell_type": "code",
   "execution_count": null,
   "metadata": {},
   "outputs": [],
   "source": [
    "#masukin library dulu \n",
    "from windrose import WindroseAxes\n",
    "import netCDF4 as nc\n",
    "import numpy as np\n",
    "import pandas as pd\n",
    "import math"
   ]
  },
  {
   "cell_type": "markdown",
   "metadata": {},
   "source": [
    "## Input Data Arus"
   ]
  },
  {
   "cell_type": "code",
   "execution_count": null,
   "metadata": {},
   "outputs": [],
   "source": [
    "#masukin lokasi .nc nya dimana\n",
    "fn='D:/smt7/asisten andat/3hrly.nc4'\n",
    "#buka file nc nya dan liat isinya ada apa aja (variabel dan dimensi)\n",
    "ds=nc.Dataset(fn)\n",
    "ds"
   ]
  },
  {
   "cell_type": "code",
   "execution_count": null,
   "metadata": {},
   "outputs": [],
   "source": [
    "#data=pd.read_excel(r'D:/smt5/andat/praktikum/modul4 andat/Modul4.xlsx', sheet_name='HsFeather')\n",
    "#data_gel=pd.DataFrame(data, columns=['Hx','Hy','time'])\n",
    "#display(data_gel)\n",
    "#u=data_gel['Hx']\n",
    "#v=data_gel['Hy']"
   ]
  },
  {
   "cell_type": "markdown",
   "metadata": {},
   "source": [
    "## Deklarasi Variabel\n",
    "masukin variabel dalam nc ke variabel buatan kita sendiri\n",
    "\n",
    "feather plot inputnya komponen u, v, dan waktu sebagai sumbu x\n",
    "\n",
    "rose diagram itu, inputnya harus time series sedangkan pada input data kita tau kalo data yg di download merupakan data spasial makanya diambil deh satu kolom latitude dan longitudenya itu maksudnya ngambil 1 grid.\n",
    "\n",
    "setiap orang dalam setiap kelompok diusahakan mengambil dari grid yang berbeda supaya dapat dilihat ketersesuaian data dalam satu daerah tersebut\n",
    "\n",
    "grid yg diambil samain aja sama grid windrose dan current rose"
   ]
  },
  {
   "cell_type": "code",
   "execution_count": null,
   "metadata": {},
   "outputs": [],
   "source": [
    "u=ds.variables['water_u'][:,:,1,1]\n",
    "v=ds.variables['water_v'][:,:,1,1]\n",
    "lon=ds.variables['lon'][:]\n",
    "lat=ds.variables['lat'][:]\n",
    "time=ds.variables['time'][:]\n",
    "\n",
    "#melihat dimensi masing2 variabel\n",
    "print('dimensi u',np.shape(u))\n",
    "print('dimensi v',np.shape(v))\n",
    "print('dimensi lon',np.shape(lon))\n",
    "print('dimensi lat',np.shape(lat))\n",
    "print('dimensi time',np.shape(time))"
   ]
  },
  {
   "cell_type": "code",
   "execution_count": null,
   "metadata": {},
   "outputs": [],
   "source": [
    "#untuk melihat data\n",
    "data_arus=pd.DataFrame(u,columns=['u'])\n",
    "data_arus['v']=v\n",
    "data_arus['time']=time\n",
    "data_arus.describe()\n",
    "#display(data_arus)"
   ]
  },
  {
   "cell_type": "markdown",
   "metadata": {},
   "source": [
    "## Membuat Current Feather Plot"
   ]
  },
  {
   "cell_type": "code",
   "execution_count": null,
   "metadata": {},
   "outputs": [],
   "source": [
    "import numpy as np\n",
    "import matplotlib.pyplot as plt\n",
    "from matplotlib.dates import date2num\n",
    "\n",
    "\n",
    "def stick_plot(time, u, v, **kw):\n",
    "    width = kw.pop('width', 0.002)\n",
    "    headwidth = kw.pop('headwidth', 0)\n",
    "    headlength = kw.pop('headlength', 0)\n",
    "    headaxislength = kw.pop('headaxislength', 0)\n",
    "    angles = kw.pop('angles', 'uv')\n",
    "    ax = kw.pop('ax', None)\n",
    "    \n",
    "    if angles != 'uv':\n",
    "        raise AssertionError(\"Stickplot angles must be 'uv' so that\"\n",
    "                             \"if *U*==*V* the angle of the arrow on\"\n",
    "                             \"the plot is 45 degrees CCW from the *x*-axis.\")\n",
    "\n",
    "    time, u, v = map(np.asanyarray, (time, u, v))\n",
    "    if not ax:\n",
    "        fig, ax = plt.subplots()\n",
    "    \n",
    "    q = ax.quiver(date2num(time), [[0]*len(time)], u, v,\n",
    "                  angles='uv', width=width, headwidth=headwidth,\n",
    "                  headlength=headlength, headaxislength=headaxislength,\n",
    "                  **kw)\n",
    "\n",
    "    ax.axes.get_yaxis().set_visible(False)\n",
    "    ax.xaxis_date()\n",
    "    return q"
   ]
  },
  {
   "cell_type": "code",
   "execution_count": null,
   "metadata": {},
   "outputs": [],
   "source": [
    "from datetime import datetime, timedelta, date\n",
    "x = data_arus\n",
    "start = datetime(2000, 1, 1, 0, 0) #tahun,bulan,hari\n",
    "t = [start + timedelta(hours=3*n) for n in range(len(x))] #karena data diambil setiap 3 jam\n"
   ]
  },
  {
   "cell_type": "code",
   "execution_count": null,
   "metadata": {},
   "outputs": [],
   "source": [
    "fig, ax = plt.subplots(figsize=(11, 5))\n",
    "\n",
    "q = stick_plot(t, u, v, ax=ax, width=0.002, color='coral')\n",
    "ax.set_title('CURRENT FEATHER PLOT')\n",
    "ref = 1\n",
    "qk = plt.quiverkey(q, 0.1, 0.85, ref,\n",
    "                  \"%s m/s \" % ref,\n",
    "                  labelpos='N', coordinates='axes')\n",
    "\n",
    "_ = plt.xticks(rotation=70)"
   ]
  },
  {
   "cell_type": "code",
   "execution_count": null,
   "metadata": {},
   "outputs": [],
   "source": [
    "a=122.485\n",
    "b=0.31061\n",
    "c=b*math.cos(math.radians(a))\n",
    "print(c)"
   ]
  },
  {
   "cell_type": "code",
   "execution_count": null,
   "metadata": {},
   "outputs": [],
   "source": []
  }
 ],
 "metadata": {
  "kernelspec": {
   "display_name": "Python 3",
   "language": "python",
   "name": "python3"
  },
  "language_info": {
   "codemirror_mode": {
    "name": "ipython",
    "version": 3
   },
   "file_extension": ".py",
   "mimetype": "text/x-python",
   "name": "python",
   "nbconvert_exporter": "python",
   "pygments_lexer": "ipython3",
   "version": "3.7.6"
  }
 },
 "nbformat": 4,
 "nbformat_minor": 4
}
